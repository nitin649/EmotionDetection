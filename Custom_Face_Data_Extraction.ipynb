{
 "cells": [
  {
   "cell_type": "code",
   "execution_count": 2,
   "metadata": {},
   "outputs": [],
   "source": [
    "import cv2\n",
    "import os\n",
    "import numpy as np\n",
    "import matplotlib.pyplot as plt"
   ]
  },
  {
   "cell_type": "code",
   "execution_count": 7,
   "metadata": {},
   "outputs": [
    {
     "name": "stdout",
     "output_type": "stream",
     "text": [
      "enter your idhi\n",
      ".\\facialExp\\hi\\1.png\n",
      ".\\facialExp\\hi\\2.png\n",
      ".\\facialExp\\hi\\3.png\n",
      ".\\facialExp\\hi\\4.png\n",
      ".\\facialExp\\hi\\5.png\n",
      ".\\facialExp\\hi\\6.png\n",
      ".\\facialExp\\hi\\7.png\n",
      ".\\facialExp\\hi\\8.png\n",
      ".\\facialExp\\hi\\9.png\n",
      ".\\facialExp\\hi\\10.png\n",
      ".\\facialExp\\hi\\11.png\n",
      ".\\facialExp\\hi\\12.png\n",
      ".\\facialExp\\hi\\13.png\n",
      ".\\facialExp\\hi\\14.png\n",
      ".\\facialExp\\hi\\15.png\n",
      ".\\facialExp\\hi\\16.png\n",
      ".\\facialExp\\hi\\17.png\n",
      ".\\facialExp\\hi\\18.png\n",
      ".\\facialExp\\hi\\19.png\n",
      ".\\facialExp\\hi\\20.png\n",
      ".\\facialExp\\hi\\21.png\n",
      ".\\facialExp\\hi\\22.png\n",
      ".\\facialExp\\hi\\23.png\n",
      ".\\facialExp\\hi\\24.png\n",
      ".\\facialExp\\hi\\25.png\n",
      ".\\facialExp\\hi\\26.png\n",
      ".\\facialExp\\hi\\27.png\n",
      ".\\facialExp\\hi\\28.png\n",
      ".\\facialExp\\hi\\29.png\n",
      ".\\facialExp\\hi\\30.png\n",
      "you want to insert more datano\n"
     ]
    }
   ],
   "source": [
    "vid=cv2.VideoCapture(0)#to open the camera\n",
    "face_cascade=cv2.CascadeClassifier('haarcascade_frontalface_default.xml')\n",
    "x=True\n",
    "num_of_samples=30\n",
    "while x:\n",
    "    iter1=0\n",
    "    id1=input('enter your id')\n",
    "    \n",
    "    try:\n",
    "        os.mkdir(\".\\\\facialExp\\{}\".format(id1))#making directory for each user\n",
    "    except:\n",
    "        print('please enter type of expression')#if we have same directory with same id then it will give an error to handle \n",
    "        #this error we use try except\n",
    "        continue#then it goes again to the starting of the loop\n",
    "\n",
    "    while(iter1<num_of_samples):\n",
    "        r,frame=vid.read()\n",
    "        frame=cv2.resize(frame,(640,480))#resizing the frame\n",
    "        im1=cv2.cvtColor(frame,cv2.COLOR_RGB2GRAY)\n",
    "\n",
    "        face=face_cascade.detectMultiScale(im1)\n",
    "\n",
    "        for (x,y,w,h) in face:\n",
    "            cv2.rectangle(frame,(x,y),(x+w,y+h),(0,255,0),2)\n",
    "            iter1=iter1+1\n",
    "            im_f=im1[y:y+h,x:x+w]#cropping the face from whole image\n",
    "            im_f=cv2.resize(im_f,(112,92))\n",
    "\n",
    "            cv2.putText(frame,'sample_no'+str(iter1),(x,y),cv2.FONT_ITALIC,1,(255,0,255),2,cv2.LINE_AA)\n",
    "\n",
    "            path='.\\\\facialExp\\\\{}\\\\{}.png'.format(id1,iter1)#creating data for each user in the particular folder\n",
    "            print(path)#path to save the image\n",
    "            cv2.imwrite(path,im_f)\n",
    "            cv2.waitKey(100)\n",
    "\n",
    "        cv2.imshow('frame',frame)\n",
    "        cv2.waitKey(1)\n",
    "    x=input('you want to insert more data').strip()\n",
    "    if x=='no':\n",
    "        break\n",
    "        \n",
    "\n",
    "\n",
    "vid.release()\n",
    "cv2.destroyAllWindows()\n",
    "        "
   ]
  },
  {
   "cell_type": "code",
   "execution_count": null,
   "metadata": {},
   "outputs": [],
   "source": []
  }
 ],
 "metadata": {
  "kernelspec": {
   "display_name": "Python 3",
   "language": "python",
   "name": "python3"
  },
  "language_info": {
   "codemirror_mode": {
    "name": "ipython",
    "version": 3
   },
   "file_extension": ".py",
   "mimetype": "text/x-python",
   "name": "python",
   "nbconvert_exporter": "python",
   "pygments_lexer": "ipython3",
   "version": "3.6.5"
  }
 },
 "nbformat": 4,
 "nbformat_minor": 2
}
